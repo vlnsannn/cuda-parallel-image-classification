{
  "nbformat": 4,
  "nbformat_minor": 0,
  "metadata": {
    "colab": {
      "provenance": [],
      "gpuType": "T4"
    },
    "kernelspec": {
      "name": "python3",
      "display_name": "Python 3"
    },
    "language_info": {
      "name": "python"
    },
    "accelerator": "GPU"
  },
  "cells": [
    {
      "cell_type": "code",
      "source": [
        "!nvidia-smi"
      ],
      "metadata": {
        "colab": {
          "base_uri": "https://localhost:8080/"
        },
        "id": "pFFVsLRKfAcR",
        "outputId": "0d4c95e8-aa7a-47d3-a3bf-e0606388fe96"
      },
      "execution_count": null,
      "outputs": [
        {
          "output_type": "stream",
          "name": "stdout",
          "text": [
            "Thu Mar 28 14:37:38 2024       \n",
            "+---------------------------------------------------------------------------------------+\n",
            "| NVIDIA-SMI 535.104.05             Driver Version: 535.104.05   CUDA Version: 12.2     |\n",
            "|-----------------------------------------+----------------------+----------------------+\n",
            "| GPU  Name                 Persistence-M | Bus-Id        Disp.A | Volatile Uncorr. ECC |\n",
            "| Fan  Temp   Perf          Pwr:Usage/Cap |         Memory-Usage | GPU-Util  Compute M. |\n",
            "|                                         |                      |               MIG M. |\n",
            "|=========================================+======================+======================|\n",
            "|   0  Tesla T4                       Off | 00000000:00:04.0 Off |                    0 |\n",
            "| N/A   41C    P8               9W /  70W |      0MiB / 15360MiB |      0%      Default |\n",
            "|                                         |                      |                  N/A |\n",
            "+-----------------------------------------+----------------------+----------------------+\n",
            "                                                                                         \n",
            "+---------------------------------------------------------------------------------------+\n",
            "| Processes:                                                                            |\n",
            "|  GPU   GI   CI        PID   Type   Process name                            GPU Memory |\n",
            "|        ID   ID                                                             Usage      |\n",
            "|=======================================================================================|\n",
            "|  No running processes found                                                           |\n",
            "+---------------------------------------------------------------------------------------+\n"
          ]
        }
      ]
    },
    {
      "cell_type": "code",
      "source": [
        "# Ensure that CUDA is available\n",
        "import tensorflow as tf\n",
        "from tensorflow.keras import datasets, layers, models\n",
        "import time\n",
        "\n",
        "physical_devices = tf.config.experimental.list_physical_devices('GPU')\n",
        "assert len(physical_devices) > 0, \"No GPU available!\"\n",
        "\n",
        "# Load and preprocess the CIFAR-10 dataset\n",
        "(train_images, train_labels), (test_images, test_labels) = datasets.cifar10.load_data()\n",
        "train_images, test_images = train_images / 255.0, test_images / 255.0\n",
        "\n",
        "# Define a simple CNN model (same as sequential)\n",
        "model = models.Sequential([\n",
        "    layers.Conv2D(32, (3, 3), activation='relu', input_shape=(32, 32, 3)),\n",
        "    layers.MaxPooling2D((2, 2)),\n",
        "    layers.Conv2D(64, (3, 3), activation='relu'),\n",
        "    layers.MaxPooling2D((2, 2)),\n",
        "    layers.Conv2D(64, (3, 3), activation='relu'),\n",
        "    layers.Flatten(),\n",
        "    layers.Dense(64, activation='relu'),\n",
        "    layers.Dense(10)\n",
        "])\n",
        "\n",
        "model.compile(optimizer='adam',\n",
        "              loss=tf.keras.losses.SparseCategoricalCrossentropy(from_logits=True),\n",
        "              metrics=['accuracy'])\n",
        "\n",
        "# Train the model and measure the execution time\n",
        "start_time = time.time()\n",
        "with tf.device('/GPU:0'):\n",
        "    model.fit(train_images, train_labels, epochs=50, validation_data=(test_images, test_labels))\n",
        "end_time = time.time()\n",
        "print(f\"Parallel Model Training Time: {end_time - start_time} seconds\")\n"
      ],
      "metadata": {
        "colab": {
          "base_uri": "https://localhost:8080/"
        },
        "id": "pbzmcSUsFzk7",
        "outputId": "5aef947e-1e47-4e44-dd35-e371507496f7"
      },
      "execution_count": null,
      "outputs": [
        {
          "output_type": "stream",
          "name": "stdout",
          "text": [
            "Downloading data from https://www.cs.toronto.edu/~kriz/cifar-10-python.tar.gz\n",
            "170498071/170498071 [==============================] - 4s 0us/step\n",
            "Epoch 1/50\n",
            "1563/1563 [==============================] - 12s 5ms/step - loss: 1.5580 - accuracy: 0.4291 - val_loss: 1.2806 - val_accuracy: 0.5392\n",
            "Epoch 2/50\n",
            "1563/1563 [==============================] - 7s 4ms/step - loss: 1.1869 - accuracy: 0.5794 - val_loss: 1.1091 - val_accuracy: 0.6098\n",
            "Epoch 3/50\n",
            "1563/1563 [==============================] - 7s 5ms/step - loss: 1.0301 - accuracy: 0.6396 - val_loss: 1.0156 - val_accuracy: 0.6461\n",
            "Epoch 4/50\n",
            "1563/1563 [==============================] - 8s 5ms/step - loss: 0.9320 - accuracy: 0.6748 - val_loss: 0.9557 - val_accuracy: 0.6700\n",
            "Epoch 5/50\n",
            "1563/1563 [==============================] - 7s 4ms/step - loss: 0.8648 - accuracy: 0.6985 - val_loss: 0.9780 - val_accuracy: 0.6592\n",
            "Epoch 6/50\n",
            "1563/1563 [==============================] - 8s 5ms/step - loss: 0.8096 - accuracy: 0.7175 - val_loss: 0.9594 - val_accuracy: 0.6690\n",
            "Epoch 7/50\n",
            "1563/1563 [==============================] - 7s 5ms/step - loss: 0.7640 - accuracy: 0.7328 - val_loss: 0.8515 - val_accuracy: 0.7093\n",
            "Epoch 8/50\n",
            "1563/1563 [==============================] - 9s 5ms/step - loss: 0.7208 - accuracy: 0.7480 - val_loss: 0.8402 - val_accuracy: 0.7102\n",
            "Epoch 9/50\n",
            "1563/1563 [==============================] - 8s 5ms/step - loss: 0.6825 - accuracy: 0.7606 - val_loss: 0.8246 - val_accuracy: 0.7186\n",
            "Epoch 10/50\n",
            "1563/1563 [==============================] - 7s 5ms/step - loss: 0.6566 - accuracy: 0.7685 - val_loss: 0.8167 - val_accuracy: 0.7147\n",
            "Epoch 11/50\n",
            "1563/1563 [==============================] - 8s 5ms/step - loss: 0.6250 - accuracy: 0.7809 - val_loss: 0.8453 - val_accuracy: 0.7114\n",
            "Epoch 12/50\n",
            "1563/1563 [==============================] - 8s 5ms/step - loss: 0.6051 - accuracy: 0.7889 - val_loss: 0.8427 - val_accuracy: 0.7176\n",
            "Epoch 13/50\n",
            "1563/1563 [==============================] - 7s 4ms/step - loss: 0.5704 - accuracy: 0.7990 - val_loss: 0.8894 - val_accuracy: 0.7007\n",
            "Epoch 14/50\n",
            "1563/1563 [==============================] - 8s 5ms/step - loss: 0.5477 - accuracy: 0.8084 - val_loss: 0.8470 - val_accuracy: 0.7170\n",
            "Epoch 15/50\n",
            "1563/1563 [==============================] - 7s 5ms/step - loss: 0.5264 - accuracy: 0.8150 - val_loss: 0.8733 - val_accuracy: 0.7198\n",
            "Epoch 16/50\n",
            "1563/1563 [==============================] - 7s 4ms/step - loss: 0.5031 - accuracy: 0.8222 - val_loss: 0.9212 - val_accuracy: 0.7071\n",
            "Epoch 17/50\n",
            "1563/1563 [==============================] - 8s 5ms/step - loss: 0.4846 - accuracy: 0.8282 - val_loss: 0.9008 - val_accuracy: 0.7146\n",
            "Epoch 18/50\n",
            "1563/1563 [==============================] - 7s 5ms/step - loss: 0.4592 - accuracy: 0.8364 - val_loss: 0.9727 - val_accuracy: 0.7030\n",
            "Epoch 19/50\n",
            "1563/1563 [==============================] - 8s 5ms/step - loss: 0.4422 - accuracy: 0.8431 - val_loss: 0.9771 - val_accuracy: 0.7085\n",
            "Epoch 20/50\n",
            "1563/1563 [==============================] - 7s 5ms/step - loss: 0.4199 - accuracy: 0.8531 - val_loss: 1.0107 - val_accuracy: 0.7075\n",
            "Epoch 21/50\n",
            "1563/1563 [==============================] - 7s 4ms/step - loss: 0.4021 - accuracy: 0.8576 - val_loss: 1.0274 - val_accuracy: 0.7005\n",
            "Epoch 22/50\n",
            "1563/1563 [==============================] - 8s 5ms/step - loss: 0.3817 - accuracy: 0.8637 - val_loss: 1.0035 - val_accuracy: 0.7200\n",
            "Epoch 23/50\n",
            "1563/1563 [==============================] - 7s 5ms/step - loss: 0.3637 - accuracy: 0.8691 - val_loss: 1.0331 - val_accuracy: 0.7072\n",
            "Epoch 24/50\n",
            "1563/1563 [==============================] - 8s 5ms/step - loss: 0.3480 - accuracy: 0.8754 - val_loss: 1.0951 - val_accuracy: 0.7091\n",
            "Epoch 25/50\n",
            "1563/1563 [==============================] - 8s 5ms/step - loss: 0.3290 - accuracy: 0.8828 - val_loss: 1.0895 - val_accuracy: 0.7123\n",
            "Epoch 26/50\n",
            "1563/1563 [==============================] - 7s 4ms/step - loss: 0.3152 - accuracy: 0.8853 - val_loss: 1.1821 - val_accuracy: 0.7032\n",
            "Epoch 27/50\n",
            "1563/1563 [==============================] - 8s 5ms/step - loss: 0.2998 - accuracy: 0.8909 - val_loss: 1.2371 - val_accuracy: 0.7067\n",
            "Epoch 28/50\n",
            "1563/1563 [==============================] - 8s 5ms/step - loss: 0.2874 - accuracy: 0.8953 - val_loss: 1.2817 - val_accuracy: 0.7017\n",
            "Epoch 29/50\n",
            "1563/1563 [==============================] - 7s 4ms/step - loss: 0.2707 - accuracy: 0.9029 - val_loss: 1.3050 - val_accuracy: 0.6986\n",
            "Epoch 30/50\n",
            "1563/1563 [==============================] - 8s 5ms/step - loss: 0.2596 - accuracy: 0.9070 - val_loss: 1.3877 - val_accuracy: 0.7039\n",
            "Epoch 31/50\n",
            "1563/1563 [==============================] - 7s 5ms/step - loss: 0.2538 - accuracy: 0.9080 - val_loss: 1.3811 - val_accuracy: 0.6998\n",
            "Epoch 32/50\n",
            "1563/1563 [==============================] - 8s 5ms/step - loss: 0.2402 - accuracy: 0.9128 - val_loss: 1.3947 - val_accuracy: 0.6956\n",
            "Epoch 33/50\n",
            "1563/1563 [==============================] - 7s 5ms/step - loss: 0.2341 - accuracy: 0.9166 - val_loss: 1.4742 - val_accuracy: 0.6937\n",
            "Epoch 34/50\n",
            "1563/1563 [==============================] - 7s 5ms/step - loss: 0.2197 - accuracy: 0.9212 - val_loss: 1.5275 - val_accuracy: 0.6887\n",
            "Epoch 35/50\n",
            "1563/1563 [==============================] - 8s 5ms/step - loss: 0.2228 - accuracy: 0.9197 - val_loss: 1.5995 - val_accuracy: 0.6897\n",
            "Epoch 36/50\n",
            "1563/1563 [==============================] - 7s 5ms/step - loss: 0.2033 - accuracy: 0.9243 - val_loss: 1.6247 - val_accuracy: 0.7006\n",
            "Epoch 37/50\n",
            "1563/1563 [==============================] - 7s 5ms/step - loss: 0.2008 - accuracy: 0.9277 - val_loss: 1.6477 - val_accuracy: 0.6854\n",
            "Epoch 38/50\n",
            "1563/1563 [==============================] - 8s 5ms/step - loss: 0.1933 - accuracy: 0.9304 - val_loss: 1.6735 - val_accuracy: 0.6903\n",
            "Epoch 39/50\n",
            "1563/1563 [==============================] - 7s 5ms/step - loss: 0.1956 - accuracy: 0.9286 - val_loss: 1.6908 - val_accuracy: 0.6871\n",
            "Epoch 40/50\n",
            "1563/1563 [==============================] - 8s 5ms/step - loss: 0.1742 - accuracy: 0.9368 - val_loss: 1.7504 - val_accuracy: 0.6892\n",
            "Epoch 41/50\n",
            "1563/1563 [==============================] - 8s 5ms/step - loss: 0.1812 - accuracy: 0.9344 - val_loss: 1.8180 - val_accuracy: 0.6977\n",
            "Epoch 42/50\n",
            "1563/1563 [==============================] - 7s 5ms/step - loss: 0.1737 - accuracy: 0.9374 - val_loss: 1.8234 - val_accuracy: 0.6929\n",
            "Epoch 43/50\n",
            "1563/1563 [==============================] - 8s 5ms/step - loss: 0.1672 - accuracy: 0.9402 - val_loss: 1.8731 - val_accuracy: 0.6954\n",
            "Epoch 44/50\n",
            "1563/1563 [==============================] - 8s 5ms/step - loss: 0.1608 - accuracy: 0.9422 - val_loss: 1.9894 - val_accuracy: 0.6881\n",
            "Epoch 45/50\n",
            "1563/1563 [==============================] - 8s 5ms/step - loss: 0.1582 - accuracy: 0.9436 - val_loss: 1.9987 - val_accuracy: 0.6844\n",
            "Epoch 46/50\n",
            "1563/1563 [==============================] - 8s 5ms/step - loss: 0.1540 - accuracy: 0.9441 - val_loss: 1.9881 - val_accuracy: 0.6908\n",
            "Epoch 47/50\n",
            "1563/1563 [==============================] - 7s 5ms/step - loss: 0.1584 - accuracy: 0.9436 - val_loss: 2.1249 - val_accuracy: 0.6899\n",
            "Epoch 48/50\n",
            "1563/1563 [==============================] - 8s 5ms/step - loss: 0.1451 - accuracy: 0.9489 - val_loss: 2.2085 - val_accuracy: 0.6903\n",
            "Epoch 49/50\n",
            "1563/1563 [==============================] - 8s 5ms/step - loss: 0.1477 - accuracy: 0.9461 - val_loss: 2.1677 - val_accuracy: 0.6903\n",
            "Epoch 50/50\n",
            "1563/1563 [==============================] - 8s 5ms/step - loss: 0.1422 - accuracy: 0.9497 - val_loss: 2.2804 - val_accuracy: 0.6798\n",
            "Parallel Model Training Time: 385.0323965549469 seconds\n"
          ]
        }
      ]
    },
    {
      "cell_type": "code",
      "source": [],
      "metadata": {
        "id": "WBSp65zqgCiT"
      },
      "execution_count": null,
      "outputs": []
    }
  ]
}