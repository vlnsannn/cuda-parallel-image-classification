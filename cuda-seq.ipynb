{
 "cells": [
  {
   "cell_type": "code",
   "execution_count": 2,
   "id": "37ee7b2e-1294-46f3-b004-9f2f2e69332f",
   "metadata": {},
   "outputs": [
    {
     "name": "stdout",
     "output_type": "stream",
     "text": [
      "Epoch 1/15\n",
      "1563/1563 [==============================] - 78s 49ms/step - loss: 1.5175 - accuracy: 0.4473 - val_loss: 1.2493 - val_accuracy: 0.5537\n",
      "Epoch 2/15\n",
      "1563/1563 [==============================] - 83s 53ms/step - loss: 1.1561 - accuracy: 0.5922 - val_loss: 1.0544 - val_accuracy: 0.6280\n",
      "Epoch 3/15\n",
      "1563/1563 [==============================] - 87s 56ms/step - loss: 0.9860 - accuracy: 0.6524 - val_loss: 0.9478 - val_accuracy: 0.6737\n",
      "Epoch 4/15\n",
      "1563/1563 [==============================] - 112s 71ms/step - loss: 0.8804 - accuracy: 0.6906 - val_loss: 0.8874 - val_accuracy: 0.6932\n",
      "Epoch 5/15\n",
      "1563/1563 [==============================] - 99s 63ms/step - loss: 0.8003 - accuracy: 0.7195 - val_loss: 0.9094 - val_accuracy: 0.6897\n",
      "Epoch 6/15\n",
      "1563/1563 [==============================] - 70s 45ms/step - loss: 0.7375 - accuracy: 0.7413 - val_loss: 0.8678 - val_accuracy: 0.7031\n",
      "Epoch 7/15\n",
      "1563/1563 [==============================] - 70s 45ms/step - loss: 0.6873 - accuracy: 0.7599 - val_loss: 0.8231 - val_accuracy: 0.7184\n",
      "Epoch 8/15\n",
      "1563/1563 [==============================] - 73s 47ms/step - loss: 0.6378 - accuracy: 0.7752 - val_loss: 0.8512 - val_accuracy: 0.7160\n",
      "Epoch 9/15\n",
      "1563/1563 [==============================] - 68s 43ms/step - loss: 0.5946 - accuracy: 0.7923 - val_loss: 0.8329 - val_accuracy: 0.7247\n",
      "Epoch 10/15\n",
      "1563/1563 [==============================] - 79s 51ms/step - loss: 0.5567 - accuracy: 0.8050 - val_loss: 0.8673 - val_accuracy: 0.7064\n",
      "Epoch 11/15\n",
      "1563/1563 [==============================] - 83s 53ms/step - loss: 0.5212 - accuracy: 0.8157 - val_loss: 0.8742 - val_accuracy: 0.7157\n",
      "Epoch 12/15\n",
      "1563/1563 [==============================] - 84s 54ms/step - loss: 0.4828 - accuracy: 0.8298 - val_loss: 0.9429 - val_accuracy: 0.7082\n",
      "Epoch 13/15\n",
      "1563/1563 [==============================] - 90s 57ms/step - loss: 0.4538 - accuracy: 0.8390 - val_loss: 0.9883 - val_accuracy: 0.7075\n",
      "Epoch 14/15\n",
      "1563/1563 [==============================] - 92s 59ms/step - loss: 0.4252 - accuracy: 0.8480 - val_loss: 0.9905 - val_accuracy: 0.7092\n",
      "Epoch 15/15\n",
      "1563/1563 [==============================] - 89s 57ms/step - loss: 0.3927 - accuracy: 0.8595 - val_loss: 1.0041 - val_accuracy: 0.7156\n",
      "Sequential Model Training Time: 1260.2463920116425 seconds\n"
     ]
    }
   ],
   "source": [
    "import tensorflow as tf\n",
    "from tensorflow.keras import datasets, layers, models\n",
    "import time\n",
    "\n",
    "# Load and preprocess the CIFAR-10 dataset\n",
    "(train_images, train_labels), (test_images, test_labels) = datasets.cifar10.load_data()\n",
    "train_images, test_images = train_images / 255.0, test_images / 255.0\n",
    "\n",
    "# Define a simple CNN model\n",
    "model = models.Sequential([\n",
    "    layers.Conv2D(32, (3, 3), activation='relu', input_shape=(32, 32, 3)),\n",
    "    layers.MaxPooling2D((2, 2)),\n",
    "    layers.Conv2D(64, (3, 3), activation='relu'),\n",
    "    layers.MaxPooling2D((2, 2)),\n",
    "    layers.Conv2D(64, (3, 3), activation='relu'),\n",
    "    layers.Flatten(),\n",
    "    layers.Dense(64, activation='relu'),\n",
    "    layers.Dense(10)\n",
    "])\n",
    "\n",
    "model.compile(optimizer='adam',\n",
    "              loss=tf.keras.losses.SparseCategoricalCrossentropy(from_logits=True),\n",
    "              metrics=['accuracy'])\n",
    "\n",
    "# Train the model and measure the execution time\n",
    "start_time = time.time()\n",
    "model.fit(train_images, train_labels, epochs=15, validation_data=(test_images, test_labels))\n",
    "end_time = time.time()\n",
    "print(f\"Sequential Model Training Time: {end_time - start_time} seconds\")\n"
   ]
  },
  {
   "cell_type": "code",
   "execution_count": null,
   "id": "48cb962c-9994-4184-80d0-4923540165de",
   "metadata": {},
   "outputs": [],
   "source": []
  }
 ],
 "metadata": {
  "kernelspec": {
   "display_name": "Python 3 (ipykernel)",
   "language": "python",
   "name": "python3"
  },
  "language_info": {
   "codemirror_mode": {
    "name": "ipython",
    "version": 3
   },
   "file_extension": ".py",
   "mimetype": "text/x-python",
   "name": "python",
   "nbconvert_exporter": "python",
   "pygments_lexer": "ipython3",
   "version": "3.11.8"
  }
 },
 "nbformat": 4,
 "nbformat_minor": 5
}
